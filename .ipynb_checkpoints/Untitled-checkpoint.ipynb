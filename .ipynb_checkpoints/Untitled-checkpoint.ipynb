{
 "cells": [
  {
   "cell_type": "code",
   "execution_count": 24,
   "id": "7de28294",
   "metadata": {},
   "outputs": [],
   "source": [
    "import pandas as pd\n",
    "guns = pd.read_csv('rifles2.csv', header=0, sep=\";\")\n"
   ]
  },
  {
   "cell_type": "code",
   "execution_count": 28,
   "id": "065c5155",
   "metadata": {},
   "outputs": [
    {
     "data": {
      "text/plain": [
       "'Mosin-Nagant M1891'"
      ]
     },
     "execution_count": 28,
     "metadata": {},
     "output_type": "execute_result"
    }
   ],
   "source": [
    "guns.at[4,\"Name\"]\n",
    "\n",
    "# for row in guns.itertuples():\n",
    "#     print(row)"
   ]
  },
  {
   "cell_type": "code",
   "execution_count": 37,
   "id": "98eb759c",
   "metadata": {},
   "outputs": [
    {
     "data": {
      "text/plain": [
       "<span class=\"mw-headline\" id=\"Weapon_statistics_details\">Weapon statistics details</span>"
      ]
     },
     "execution_count": 37,
     "metadata": {},
     "output_type": "execute_result"
    }
   ],
   "source": [
    "import requests\n",
    "from bs4 import BeautifulSoup\n",
    "\n",
    "response = requests.get(\"https://huntshowdown.fandom.com/wiki/Weapons\")\n",
    "\n",
    "soup = BeautifulSoup(response.text, \"html.parser\")\n",
    "\n",
    "# output = soup.select(\".mw-headline\")\n",
    "# output = soup.select(\".mw-headline\")\n",
    "output[0]"
   ]
  }
 ],
 "metadata": {
  "kernelspec": {
   "display_name": "Python 3",
   "language": "python",
   "name": "python3"
  },
  "language_info": {
   "codemirror_mode": {
    "name": "ipython",
    "version": 3
   },
   "file_extension": ".py",
   "mimetype": "text/x-python",
   "name": "python",
   "nbconvert_exporter": "python",
   "pygments_lexer": "ipython3",
   "version": "3.8.8"
  }
 },
 "nbformat": 4,
 "nbformat_minor": 5
}
